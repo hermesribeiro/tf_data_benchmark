{
 "cells": [
  {
   "cell_type": "code",
   "execution_count": 1,
   "metadata": {},
   "outputs": [],
   "source": [
    "import os\n",
    "import numpy as np\n",
    "import tensorflow as tf\n",
    "import pandas as pd\n",
    "from dask import dataframe as dd"
   ]
  },
  {
   "cell_type": "code",
   "execution_count": 2,
   "metadata": {},
   "outputs": [],
   "source": [
    "COLUMNS = list('abcdefghij')\n",
    "LABELS = 'labels'"
   ]
  },
  {
   "cell_type": "code",
   "execution_count": 3,
   "metadata": {},
   "outputs": [],
   "source": [
    "base_dir = 'data'\n",
    "if not os.path.isdir(base_dir):\n",
    "    os.mkdir(base_dir)\n",
    "sharded_dir = os.path.join(base_dir, 'sharded')\n",
    "if not os.path.isdir(sharded_dir):\n",
    "    os.mkdir(sharded_dir)\n",
    "tfrecords_dir = os.path.join(base_dir, 'tfrecords')\n",
    "if not os.path.isdir(tfrecords_dir):\n",
    "    os.mkdir(tfrecords_dir)"
   ]
  },
  {
   "cell_type": "markdown",
   "metadata": {},
   "source": [
    "## TFRecords writer"
   ]
  },
  {
   "cell_type": "code",
   "execution_count": 4,
   "metadata": {},
   "outputs": [],
   "source": [
    "def _float_feature(value):\n",
    "    \"\"\"Returns a float_list from a float / double.\"\"\"\n",
    "    return tf.train.Feature(float_list=tf.train.FloatList(value=[value]))\n",
    "\n",
    "def _int64_feature(value):\n",
    "    \"\"\"Returns an int64_list from a bool / enum / int / uint.\"\"\"\n",
    "    return tf.train.Feature(int64_list=tf.train.Int64List(value=[value]))"
   ]
  },
  {
   "cell_type": "code",
   "execution_count": 4,
   "metadata": {},
   "outputs": [],
   "source": [
    "def serialize_example(features, labels):\n",
    "    \"\"\"\n",
    "    Creates a tf.Example message ready to be written to a file.\n",
    "    \"\"\"\n",
    "    # Create a dictionary mapping the feature name to the tf.Example-compatible\n",
    "    # data type.\n",
    "    # Equivalent to:\n",
    "    # feature = {\n",
    "    #     'feature0': _int64_feature(feature0),\n",
    "    #     'feature1': _int64_feature(feature1),\n",
    "    #     'feature2': _bytes_feature(feature2),\n",
    "    #     'feature3': _float_feature(feature3),\n",
    "    # }\n",
    "    feats = [_float_feature(x) for x in features]\n",
    "    feature = dict(zip(COLUMNS, feats))\n",
    "    feature.update({LABELS: _int64_feature(labels)})\n",
    "\n",
    "    # Create a Features message using tf.train.Example.\n",
    "\n",
    "    example_proto = tf.train.Example(features=tf.train.Features(feature=feature))\n",
    "    return example_proto.SerializeToString()"
   ]
  },
  {
   "cell_type": "code",
   "execution_count": 5,
   "metadata": {},
   "outputs": [],
   "source": [
    "def write_tfrecord(filename, features, labels):\n",
    "    with tf.io.TFRecordWriter(filename) as writer:\n",
    "        for idi in range(len(features)):\n",
    "            example = serialize_example(features[idi], labels[idi])\n",
    "            writer.write(example)"
   ]
  },
  {
   "cell_type": "markdown",
   "metadata": {},
   "source": [
    "## Generating synthetic dataset"
   ]
  },
  {
   "cell_type": "code",
   "execution_count": 6,
   "metadata": {},
   "outputs": [
    {
     "name": "stdout",
     "output_type": "stream",
     "text": [
      "0\n",
      "100\n",
      "200\n",
      "300\n",
      "400\n",
      "500\n",
      "600\n",
      "700\n",
      "800\n",
      "900\n"
     ]
    }
   ],
   "source": [
    "total = []\n",
    "for idi in range(1000):\n",
    "    if not idi%100:\n",
    "        print(idi)\n",
    "    features = np.random.rand(1000,10)\n",
    "    labels = np.random.randint(0, 2, size=(1000))\n",
    "    df = pd.DataFrame(features, columns=COLUMNS)\n",
    "    df[LABELS] = labels\n",
    "    df.to_csv('data/sharded/teste-{}.csv'.format(str(idi).zfill(6)), index=False)\n",
    "    write_tfrecord(\n",
    "        'data/tfrecords/teste-{}.tfrecord'.format(str(idi).zfill(6)),\n",
    "        df.iloc[:,:-1].values,\n",
    "        df.iloc[:,-1].values,\n",
    "    )\n",
    "    total.extend(df.values.tolist())"
   ]
  },
  {
   "cell_type": "markdown",
   "metadata": {},
   "source": [
    "## Visualizing pandas data frame "
   ]
  },
  {
   "cell_type": "code",
   "execution_count": 7,
   "metadata": {},
   "outputs": [],
   "source": [
    "df_total = pd.DataFrame(total, columns=COLUMNS+[LABELS])\n",
    "df_total.to_csv('data/teste-integral.csv', index=False)"
   ]
  },
  {
   "cell_type": "code",
   "execution_count": 8,
   "metadata": {},
   "outputs": [
    {
     "data": {
      "text/html": [
       "<div>\n",
       "<style scoped>\n",
       "    .dataframe tbody tr th:only-of-type {\n",
       "        vertical-align: middle;\n",
       "    }\n",
       "\n",
       "    .dataframe tbody tr th {\n",
       "        vertical-align: top;\n",
       "    }\n",
       "\n",
       "    .dataframe thead th {\n",
       "        text-align: right;\n",
       "    }\n",
       "</style>\n",
       "<table border=\"1\" class=\"dataframe\">\n",
       "  <thead>\n",
       "    <tr style=\"text-align: right;\">\n",
       "      <th></th>\n",
       "      <th>a</th>\n",
       "      <th>b</th>\n",
       "      <th>c</th>\n",
       "      <th>d</th>\n",
       "      <th>e</th>\n",
       "      <th>f</th>\n",
       "      <th>g</th>\n",
       "      <th>h</th>\n",
       "      <th>i</th>\n",
       "      <th>j</th>\n",
       "      <th>labels</th>\n",
       "    </tr>\n",
       "  </thead>\n",
       "  <tbody>\n",
       "    <tr>\n",
       "      <th>0</th>\n",
       "      <td>0.349554</td>\n",
       "      <td>0.541343</td>\n",
       "      <td>0.607645</td>\n",
       "      <td>0.442531</td>\n",
       "      <td>0.020099</td>\n",
       "      <td>0.949210</td>\n",
       "      <td>0.967931</td>\n",
       "      <td>0.564398</td>\n",
       "      <td>0.682192</td>\n",
       "      <td>0.371310</td>\n",
       "      <td>0.0</td>\n",
       "    </tr>\n",
       "    <tr>\n",
       "      <th>1</th>\n",
       "      <td>0.590018</td>\n",
       "      <td>0.371522</td>\n",
       "      <td>0.904488</td>\n",
       "      <td>0.967802</td>\n",
       "      <td>0.539744</td>\n",
       "      <td>0.254605</td>\n",
       "      <td>0.928243</td>\n",
       "      <td>0.366421</td>\n",
       "      <td>0.340372</td>\n",
       "      <td>0.117526</td>\n",
       "      <td>1.0</td>\n",
       "    </tr>\n",
       "    <tr>\n",
       "      <th>2</th>\n",
       "      <td>0.877260</td>\n",
       "      <td>0.748541</td>\n",
       "      <td>0.143165</td>\n",
       "      <td>0.366931</td>\n",
       "      <td>0.305194</td>\n",
       "      <td>0.502168</td>\n",
       "      <td>0.427763</td>\n",
       "      <td>0.820421</td>\n",
       "      <td>0.126810</td>\n",
       "      <td>0.063527</td>\n",
       "      <td>1.0</td>\n",
       "    </tr>\n",
       "    <tr>\n",
       "      <th>3</th>\n",
       "      <td>0.339867</td>\n",
       "      <td>0.593165</td>\n",
       "      <td>0.347725</td>\n",
       "      <td>0.760159</td>\n",
       "      <td>0.622874</td>\n",
       "      <td>0.161114</td>\n",
       "      <td>0.805181</td>\n",
       "      <td>0.008477</td>\n",
       "      <td>0.370492</td>\n",
       "      <td>0.336214</td>\n",
       "      <td>1.0</td>\n",
       "    </tr>\n",
       "    <tr>\n",
       "      <th>4</th>\n",
       "      <td>0.672775</td>\n",
       "      <td>0.653081</td>\n",
       "      <td>0.091219</td>\n",
       "      <td>0.939693</td>\n",
       "      <td>0.880691</td>\n",
       "      <td>0.515646</td>\n",
       "      <td>0.979199</td>\n",
       "      <td>0.201749</td>\n",
       "      <td>0.871451</td>\n",
       "      <td>0.683567</td>\n",
       "      <td>1.0</td>\n",
       "    </tr>\n",
       "  </tbody>\n",
       "</table>\n",
       "</div>"
      ],
      "text/plain": [
       "          a         b         c         d         e         f         g  \\\n",
       "0  0.349554  0.541343  0.607645  0.442531  0.020099  0.949210  0.967931   \n",
       "1  0.590018  0.371522  0.904488  0.967802  0.539744  0.254605  0.928243   \n",
       "2  0.877260  0.748541  0.143165  0.366931  0.305194  0.502168  0.427763   \n",
       "3  0.339867  0.593165  0.347725  0.760159  0.622874  0.161114  0.805181   \n",
       "4  0.672775  0.653081  0.091219  0.939693  0.880691  0.515646  0.979199   \n",
       "\n",
       "          h         i         j  labels  \n",
       "0  0.564398  0.682192  0.371310     0.0  \n",
       "1  0.366421  0.340372  0.117526     1.0  \n",
       "2  0.820421  0.126810  0.063527     1.0  \n",
       "3  0.008477  0.370492  0.336214     1.0  \n",
       "4  0.201749  0.871451  0.683567     1.0  "
      ]
     },
     "execution_count": 8,
     "metadata": {},
     "output_type": "execute_result"
    }
   ],
   "source": [
    "df_total.head()"
   ]
  },
  {
   "cell_type": "code",
   "execution_count": 9,
   "metadata": {},
   "outputs": [
    {
     "data": {
      "text/plain": [
       "(1000000, 11)"
      ]
     },
     "execution_count": 9,
     "metadata": {},
     "output_type": "execute_result"
    }
   ],
   "source": [
    "df_total.shape"
   ]
  },
  {
   "cell_type": "markdown",
   "metadata": {},
   "source": [
    "## Reading a single TFRecords file"
   ]
  },
  {
   "cell_type": "code",
   "execution_count": 10,
   "metadata": {},
   "outputs": [],
   "source": [
    "raw_dataset = tf.data.TFRecordDataset('data/tfrecords/teste-000000.tfrecord')"
   ]
  },
  {
   "cell_type": "code",
   "execution_count": 11,
   "metadata": {},
   "outputs": [
    {
     "name": "stdout",
     "output_type": "stream",
     "text": [
      "<tf.Tensor: shape=(), dtype=string, numpy=b'\\n\\xa7\\x01\\n\\r\\n\\x01a\\x12\\x08\\x12\\x06\\n\\x04\\xb6\\xf8\\xb2>\\n\\r\\n\\x01b\\x12\\x08\\x12\\x06\\n\\x04{\\x95\\n?\\n\\x0f\\n\\x06labels\\x12\\x05\\x1a\\x03\\n\\x01\\x00\\n\\r\\n\\x01c\\x12\\x08\\x12\\x06\\n\\x04\\x9a\\x8e\\x1b?\\n\\r\\n\\x01d\\x12\\x08\\x12\\x06\\n\\x04u\\x93\\xe2>\\n\\r\\n\\x01e\\x12\\x08\\x12\\x06\\n\\x04\\xdb\\xa5\\xa4<\\n\\r\\n\\x01f\\x12\\x08\\x12\\x06\\n\\x04e\\xffr?\\n\\r\\n\\x01g\\x12\\x08\\x12\\x06\\n\\x04M\\xcaw?\\n\\r\\n\\x01h\\x12\\x08\\x12\\x06\\n\\x04`|\\x10?\\n\\r\\n\\x01i\\x12\\x08\\x12\\x06\\n\\x04%\\xa4.?\\n\\r\\n\\x01j\\x12\\x08\\x12\\x06\\n\\x04[\\x1c\\xbe>'>\n"
     ]
    }
   ],
   "source": [
    "for raw_record in raw_dataset.take(1):\n",
    "    print(repr(raw_record))"
   ]
  },
  {
   "cell_type": "code",
   "execution_count": 12,
   "metadata": {},
   "outputs": [],
   "source": [
    "feature_description = dict(zip(COLUMNS, len(COLUMNS)*[tf.io.FixedLenFeature([], tf.float32)]))\n",
    "feature_description.update({LABELS: tf.io.FixedLenFeature([], tf.int64)})\n",
    "\n",
    "def _parse_function(example_proto):\n",
    "    # Parse the input `tf.Example` proto using the dictionary above.\n",
    "    return tf.io.parse_single_example(example_proto, feature_description)"
   ]
  },
  {
   "cell_type": "code",
   "execution_count": 14,
   "metadata": {},
   "outputs": [
    {
     "name": "stdout",
     "output_type": "stream",
     "text": [
      "{'a': 0.34955376, 'b': 0.5413434, 'c': 0.6076447, 'd': 0.44253126, 'e': 0.020098617, 'f': 0.9492095, 'g': 0.9679306, 'h': 0.5643978, 'i': 0.68219215, 'j': 0.37131009, 'labels': 0}\n"
     ]
    }
   ],
   "source": [
    "parsed_dataset = raw_dataset.map(_parse_function)\n",
    "for parsed_record in parsed_dataset.take(1):\n",
    "    data = dict([(k,v.numpy()) for k,v in parsed_record.items()])\n",
    "    print(data)"
   ]
  }
 ],
 "metadata": {
  "kernelspec": {
   "display_name": "Python 3",
   "language": "python",
   "name": "python3"
  },
  "language_info": {
   "codemirror_mode": {
    "name": "ipython",
    "version": 3
   },
   "file_extension": ".py",
   "mimetype": "text/x-python",
   "name": "python",
   "nbconvert_exporter": "python",
   "pygments_lexer": "ipython3",
   "version": "3.7.5"
  }
 },
 "nbformat": 4,
 "nbformat_minor": 4
}
